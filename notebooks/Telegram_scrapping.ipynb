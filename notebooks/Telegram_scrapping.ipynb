{
  "nbformat": 4,
  "nbformat_minor": 0,
  "metadata": {
    "colab": {
      "provenance": []
    },
    "kernelspec": {
      "name": "python3",
      "display_name": "Python 3"
    },
    "language_info": {
      "name": "python"
    }
  },
  "cells": [
    {
      "cell_type": "code",
      "execution_count": 1,
      "metadata": {
        "colab": {
          "base_uri": "https://localhost:8080/"
        },
        "id": "dSjqjjh_qasw",
        "outputId": "7892422b-d705-4c41-a22e-5fcebd759095"
      },
      "outputs": [
        {
          "output_type": "stream",
          "name": "stdout",
          "text": [
            "Requirement already satisfied: telethon in /usr/local/lib/python3.11/dist-packages (1.40.0)\n",
            "Requirement already satisfied: nest_asyncio in /usr/local/lib/python3.11/dist-packages (1.6.0)\n",
            "Requirement already satisfied: pyaes in /usr/local/lib/python3.11/dist-packages (from telethon) (1.6.1)\n",
            "Requirement already satisfied: rsa in /usr/local/lib/python3.11/dist-packages (from telethon) (4.9.1)\n",
            "Requirement already satisfied: pyasn1>=0.1.3 in /usr/local/lib/python3.11/dist-packages (from rsa->telethon) (0.6.1)\n"
          ]
        }
      ],
      "source": [
        "# STEP 1: Install dependencies (Run once)\n",
        "!pip install telethon nest_asyncio"
      ]
    },
    {
      "cell_type": "code",
      "source": [
        "# STEP 2: Import libraries\n",
        "import os\n",
        "import csv\n",
        "import nest_asyncio\n",
        "from telethon.sync import TelegramClient\n",
        "from google.colab import drive"
      ],
      "metadata": {
        "id": "eQ9pcv3sqlS-"
      },
      "execution_count": 2,
      "outputs": []
    },
    {
      "cell_type": "code",
      "source": [
        "# STEP 3: Patch the event loop for Colab\n",
        "nest_asyncio.apply()"
      ],
      "metadata": {
        "id": "q72FDtEfqpEO"
      },
      "execution_count": 3,
      "outputs": []
    },
    {
      "cell_type": "code",
      "source": [
        "# STEP 4: Mount Google Drive\n",
        "drive.mount('/content/drive')"
      ],
      "metadata": {
        "colab": {
          "base_uri": "https://localhost:8080/"
        },
        "id": "RY7-xyKgqsrD",
        "outputId": "785b29c1-b063-4d0f-8c78-5b34b17baf77"
      },
      "execution_count": 4,
      "outputs": [
        {
          "output_type": "stream",
          "name": "stdout",
          "text": [
            "Drive already mounted at /content/drive; to attempt to forcibly remount, call drive.mount(\"/content/drive\", force_remount=True).\n"
          ]
        }
      ]
    },
    {
      "cell_type": "code",
      "source": [
        "api_id = '28229709'\n",
        "api_hash = '0c542f2de7a501e42329086dc7e366ab'\n"
      ],
      "metadata": {
        "id": "E4FLFVGfq5SU"
      },
      "execution_count": 5,
      "outputs": []
    },
    {
      "cell_type": "code",
      "source": [
        "channels = [\n",
        "    '@ZemenExpress',\n",
        "    '@meneshayeofficial',\n",
        "    '@Leyueqa',\n",
        "    '@Shewabrand',\n",
        "    '@modernshoppingcenter',\n",
        "    '@Fashiontera',\n",
        "    '@gebeyaadama'\n",
        "]\n"
      ],
      "metadata": {
        "id": "oc_wKJgeq-vP"
      },
      "execution_count": 6,
      "outputs": []
    },
    {
      "cell_type": "code",
      "source": [
        "# STEP 6: Initialize Telegram client and output path\n",
        "client = TelegramClient('ethioMart', api_id, api_hash)\n",
        "output_dir = '/content/drive/MyDrive/ethioMart/telegram_datas'\n",
        "os.makedirs(output_dir, exist_ok=True)"
      ],
      "metadata": {
        "id": "wAfSQzkurDCs"
      },
      "execution_count": 7,
      "outputs": []
    },
    {
      "cell_type": "code",
      "source": [
        "# STEP 7: Main async function to collect and save CSV\n",
        "async def main():\n",
        "    await client.start()\n",
        "\n",
        "    for channel in channels:\n",
        "        print(f\"📥 Collecting messages from: {channel}\")\n",
        "        messages = []\n",
        "\n",
        "        try:\n",
        "            async for msg in client.iter_messages(channel, limit=200):\n",
        "                message_data = {\n",
        "                    'channel': channel,\n",
        "                    'message_id': msg.id,\n",
        "                    'text': msg.message,\n",
        "                    'timestamp': str(msg.date),\n",
        "                    'sender_id': msg.sender_id,\n",
        "                    'media_file': ''  # Placeholder for media filename\n",
        "                }\n",
        "\n",
        "                # Download media if available\n",
        "                if msg.photo:\n",
        "                    media_path = os.path.join(output_dir, f'{channel}_{msg.id}.jpg')\n",
        "                    await msg.download_media(file=media_path)\n",
        "                    message_data['media_file'] = media_path\n",
        "\n",
        "                messages.append(message_data)\n",
        "\n",
        "        except Exception as e:\n",
        "            print(f\"⚠️ Error processing {channel}: {e}\")\n",
        "            continue\n",
        "\n",
        "        # Save to CSV\n",
        "        csv_file = os.path.join(output_dir, f'{channel}.csv')\n",
        "        with open(csv_file, mode='w', newline='', encoding='utf-8') as f:\n",
        "            writer = csv.DictWriter(f, fieldnames=['channel', 'message_id', 'text', 'timestamp', 'sender_id', 'media_file'])\n",
        "            writer.writeheader()\n",
        "            writer.writerows(messages)\n",
        "\n",
        "        print(f\"✅ Saved {len(messages)} messages from {channel} to CSV.\")\n",
        "\n",
        "\n",
        "  # Save all messages to one CSV\n",
        "    combined_csv_path = os.path.join(output_dir, 'all_channels_combined.csv')\n",
        "    with open(combined_csv_path, mode='w', newline='', encoding='utf-8') as f:\n",
        "        writer = csv.DictWriter(f, fieldnames=['channel', 'message_id', 'text', 'timestamp', 'sender_id'])\n",
        "        writer.writeheader()\n",
        "        writer.writerows(all_messages)\n",
        "\n",
        "\n",
        "# STEP 8: Run the main function\n",
        "await main()"
      ],
      "metadata": {
        "colab": {
          "base_uri": "https://localhost:8080/",
          "height": 321
        },
        "id": "T0svP7_erJjl",
        "outputId": "334bb9c6-5f8f-4082-b8a9-f9b473234a9c"
      },
      "execution_count": 38,
      "outputs": [
        {
          "output_type": "error",
          "ename": "OperationalError",
          "evalue": "database is locked",
          "traceback": [
            "\u001b[0;31m---------------------------------------------------------------------------\u001b[0m",
            "\u001b[0;31mOperationalError\u001b[0m                          Traceback (most recent call last)",
            "\u001b[0;32m/tmp/ipython-input-38-3388424952.py\u001b[0m in \u001b[0;36m<cell line: 1>\u001b[0;34m()\u001b[0m\n\u001b[1;32m     49\u001b[0m \u001b[0;34m\u001b[0m\u001b[0m\n\u001b[1;32m     50\u001b[0m \u001b[0;31m# STEP 8: Run the main function\u001b[0m\u001b[0;34m\u001b[0m\u001b[0;34m\u001b[0m\u001b[0m\n\u001b[0;32m---> 51\u001b[0;31m \u001b[0;32mawait\u001b[0m \u001b[0mmain\u001b[0m\u001b[0;34m(\u001b[0m\u001b[0;34m)\u001b[0m\u001b[0;34m\u001b[0m\u001b[0;34m\u001b[0m\u001b[0m\n\u001b[0m",
            "\u001b[0;32m/tmp/ipython-input-38-3388424952.py\u001b[0m in \u001b[0;36mmain\u001b[0;34m()\u001b[0m\n\u001b[1;32m      1\u001b[0m \u001b[0;31m# STEP 7: Main async function to collect and save CSV\u001b[0m\u001b[0;34m\u001b[0m\u001b[0;34m\u001b[0m\u001b[0m\n\u001b[1;32m      2\u001b[0m \u001b[0;32masync\u001b[0m \u001b[0;32mdef\u001b[0m \u001b[0mmain\u001b[0m\u001b[0;34m(\u001b[0m\u001b[0;34m)\u001b[0m\u001b[0;34m:\u001b[0m\u001b[0;34m\u001b[0m\u001b[0;34m\u001b[0m\u001b[0m\n\u001b[0;32m----> 3\u001b[0;31m     \u001b[0;32mawait\u001b[0m \u001b[0mclient\u001b[0m\u001b[0;34m.\u001b[0m\u001b[0mstart\u001b[0m\u001b[0;34m(\u001b[0m\u001b[0;34m)\u001b[0m\u001b[0;34m\u001b[0m\u001b[0;34m\u001b[0m\u001b[0m\n\u001b[0m\u001b[1;32m      4\u001b[0m \u001b[0;34m\u001b[0m\u001b[0m\n\u001b[1;32m      5\u001b[0m     \u001b[0;32mfor\u001b[0m \u001b[0mchannel\u001b[0m \u001b[0;32min\u001b[0m \u001b[0mchannels\u001b[0m\u001b[0;34m:\u001b[0m\u001b[0;34m\u001b[0m\u001b[0;34m\u001b[0m\u001b[0m\n",
            "\u001b[0;32m/usr/local/lib/python3.11/dist-packages/telethon/client/auth.py\u001b[0m in \u001b[0;36m_start\u001b[0;34m(self, phone, password, bot_token, force_sms, code_callback, first_name, last_name, max_attempts)\u001b[0m\n\u001b[1;32m    133\u001b[0m             code_callback, first_name, last_name, max_attempts):\n\u001b[1;32m    134\u001b[0m         \u001b[0;32mif\u001b[0m \u001b[0;32mnot\u001b[0m \u001b[0mself\u001b[0m\u001b[0;34m.\u001b[0m\u001b[0mis_connected\u001b[0m\u001b[0;34m(\u001b[0m\u001b[0;34m)\u001b[0m\u001b[0;34m:\u001b[0m\u001b[0;34m\u001b[0m\u001b[0;34m\u001b[0m\u001b[0m\n\u001b[0;32m--> 135\u001b[0;31m             \u001b[0;32mawait\u001b[0m \u001b[0mself\u001b[0m\u001b[0;34m.\u001b[0m\u001b[0mconnect\u001b[0m\u001b[0;34m(\u001b[0m\u001b[0;34m)\u001b[0m\u001b[0;34m\u001b[0m\u001b[0;34m\u001b[0m\u001b[0m\n\u001b[0m\u001b[1;32m    136\u001b[0m \u001b[0;34m\u001b[0m\u001b[0m\n\u001b[1;32m    137\u001b[0m         \u001b[0;31m# Rather than using `is_user_authorized`, use `get_me`. While this is\u001b[0m\u001b[0;34m\u001b[0m\u001b[0;34m\u001b[0m\u001b[0m\n",
            "\u001b[0;32m/usr/local/lib/python3.11/dist-packages/telethon/client/telegrambaseclient.py\u001b[0m in \u001b[0;36mconnect\u001b[0;34m(self)\u001b[0m\n\u001b[1;32m    558\u001b[0m             \u001b[0;32mreturn\u001b[0m\u001b[0;34m\u001b[0m\u001b[0;34m\u001b[0m\u001b[0m\n\u001b[1;32m    559\u001b[0m \u001b[0;34m\u001b[0m\u001b[0m\n\u001b[0;32m--> 560\u001b[0;31m         \u001b[0mself\u001b[0m\u001b[0;34m.\u001b[0m\u001b[0msession\u001b[0m\u001b[0;34m.\u001b[0m\u001b[0mauth_key\u001b[0m \u001b[0;34m=\u001b[0m \u001b[0mself\u001b[0m\u001b[0;34m.\u001b[0m\u001b[0m_sender\u001b[0m\u001b[0;34m.\u001b[0m\u001b[0mauth_key\u001b[0m\u001b[0;34m\u001b[0m\u001b[0;34m\u001b[0m\u001b[0m\n\u001b[0m\u001b[1;32m    561\u001b[0m         \u001b[0mself\u001b[0m\u001b[0;34m.\u001b[0m\u001b[0msession\u001b[0m\u001b[0;34m.\u001b[0m\u001b[0msave\u001b[0m\u001b[0;34m(\u001b[0m\u001b[0;34m)\u001b[0m\u001b[0;34m\u001b[0m\u001b[0;34m\u001b[0m\u001b[0m\n\u001b[1;32m    562\u001b[0m \u001b[0;34m\u001b[0m\u001b[0m\n",
            "\u001b[0;32m/usr/local/lib/python3.11/dist-packages/telethon/sessions/sqlite.py\u001b[0m in \u001b[0;36mauth_key\u001b[0;34m(self, value)\u001b[0m\n\u001b[1;32m    178\u001b[0m     \u001b[0;32mdef\u001b[0m \u001b[0mauth_key\u001b[0m\u001b[0;34m(\u001b[0m\u001b[0mself\u001b[0m\u001b[0;34m,\u001b[0m \u001b[0mvalue\u001b[0m\u001b[0;34m)\u001b[0m\u001b[0;34m:\u001b[0m\u001b[0;34m\u001b[0m\u001b[0;34m\u001b[0m\u001b[0m\n\u001b[1;32m    179\u001b[0m         \u001b[0mself\u001b[0m\u001b[0;34m.\u001b[0m\u001b[0m_auth_key\u001b[0m \u001b[0;34m=\u001b[0m \u001b[0mvalue\u001b[0m\u001b[0;34m\u001b[0m\u001b[0;34m\u001b[0m\u001b[0m\n\u001b[0;32m--> 180\u001b[0;31m         \u001b[0mself\u001b[0m\u001b[0;34m.\u001b[0m\u001b[0m_update_session_table\u001b[0m\u001b[0;34m(\u001b[0m\u001b[0;34m)\u001b[0m\u001b[0;34m\u001b[0m\u001b[0;34m\u001b[0m\u001b[0m\n\u001b[0m\u001b[1;32m    181\u001b[0m \u001b[0;34m\u001b[0m\u001b[0m\n\u001b[1;32m    182\u001b[0m     \u001b[0;34m@\u001b[0m\u001b[0mMemorySession\u001b[0m\u001b[0;34m.\u001b[0m\u001b[0mtakeout_id\u001b[0m\u001b[0;34m.\u001b[0m\u001b[0msetter\u001b[0m\u001b[0;34m\u001b[0m\u001b[0;34m\u001b[0m\u001b[0m\n",
            "\u001b[0;32m/usr/local/lib/python3.11/dist-packages/telethon/sessions/sqlite.py\u001b[0m in \u001b[0;36m_update_session_table\u001b[0;34m(self)\u001b[0m\n\u001b[1;32m    192\u001b[0m         \u001b[0;31m# some more work before being able to save auth_key's for\u001b[0m\u001b[0;34m\u001b[0m\u001b[0;34m\u001b[0m\u001b[0m\n\u001b[1;32m    193\u001b[0m         \u001b[0;31m# multiple DCs. Probably done differently.\u001b[0m\u001b[0;34m\u001b[0m\u001b[0;34m\u001b[0m\u001b[0m\n\u001b[0;32m--> 194\u001b[0;31m         \u001b[0mc\u001b[0m\u001b[0;34m.\u001b[0m\u001b[0mexecute\u001b[0m\u001b[0;34m(\u001b[0m\u001b[0;34m'delete from sessions'\u001b[0m\u001b[0;34m)\u001b[0m\u001b[0;34m\u001b[0m\u001b[0;34m\u001b[0m\u001b[0m\n\u001b[0m\u001b[1;32m    195\u001b[0m         c.execute('insert or replace into sessions values (?,?,?,?,?)', (\n\u001b[1;32m    196\u001b[0m             \u001b[0mself\u001b[0m\u001b[0;34m.\u001b[0m\u001b[0m_dc_id\u001b[0m\u001b[0;34m,\u001b[0m\u001b[0;34m\u001b[0m\u001b[0;34m\u001b[0m\u001b[0m\n",
            "\u001b[0;31mOperationalError\u001b[0m: database is locked"
          ]
        }
      ]
    },
    {
      "cell_type": "code",
      "source": [
        "# STEP 7: Main async function to collect and save combined CSV (media download optional)\n",
        "async def main():\n",
        "    await client.start()\n",
        "    print(\"✅ Telegram client started.\")\n",
        "\n",
        "    all_messages = []\n",
        "\n",
        "    for channel in channels:\n",
        "        print(f\"📥 Collecting messages from: {channel}\")\n",
        "        try:\n",
        "            async for msg in client.iter_messages(channel, limit=500):\n",
        "                message_data = {\n",
        "                    'channel': channel,\n",
        "                    'message_id': msg.id,\n",
        "                    'text': msg.message,\n",
        "                    'timestamp': str(msg.date),\n",
        "                    'sender_id': msg.sender_id,\n",
        "                    # You can include more fields if needed\n",
        "                }\n",
        "\n",
        "                # Optional: download media and add path\n",
        "                # If not needed, comment out the block below\n",
        "                if msg.photo:\n",
        "\n",
        "                    media_path = os.path.join(output_dir, f'{channel}_{msg.id}.jpg')\n",
        "                    await msg.download_media(file=media_path)\n",
        "                    message_data['media_file'] = media_path\n",
        "\n",
        "                all_messages.append(message_data)\n",
        "\n",
        "        except Exception as e:\n",
        "            print(f\"⚠️ Error processing {channel}: {e}\")\n",
        "            continue\n",
        "\n",
        "    # Save all messages to one CSV\n",
        "    combined_csv_path = os.path.join(output_dir, 'all_channels_combined.csv')\n",
        "    with open(combined_csv_path, mode='w', newline='', encoding='utf-8') as f:\n",
        "        writer = csv.DictWriter(f, fieldnames=['channel', 'message_id', 'text', 'timestamp', 'sender_id'])\n",
        "        writer.writeheader()\n",
        "        writer.writerows(all_messages)\n",
        "\n",
        "    print(f\"✅ All messages from {len(channels)} channels saved to: {combined_csv_path}\")\n"
      ],
      "metadata": {
        "id": "98uQvduL-QVe"
      },
      "execution_count": null,
      "outputs": []
    },
    {
      "cell_type": "code",
      "source": [
        "# STEP 8: Run the main function\n",
        "await main()"
      ],
      "metadata": {
        "id": "Nz--HHBpAWOI"
      },
      "execution_count": null,
      "outputs": []
    },
    {
      "cell_type": "code",
      "source": [
        "import os\n",
        "import csv\n",
        "import asyncio\n",
        "\n",
        "# Assuming output_dir and channels are defined somewhere before\n",
        "\n",
        "# STEP 7: Main async function to collect and save CSV\n",
        "async def main():\n",
        "    await client.start()\n",
        "\n",
        "    all_messages = []  # To store all messages across all channels combined\n",
        "\n",
        "    for channel in channels:\n",
        "        print(f\"📥 Collecting messages from: {channel}\")\n",
        "        messages = []\n",
        "\n",
        "        try:\n",
        "            async for msg in client.iter_messages(channel, limit=500):\n",
        "                message_data = {\n",
        "                    'channel': channel,\n",
        "                    'message_id': msg.id,\n",
        "                    'text': msg.message,\n",
        "                    'timestamp': str(msg.date),\n",
        "                    'sender_id': msg.sender_id,\n",
        "                    'media_file': ''  # Placeholder for media filename\n",
        "                }\n",
        "\n",
        "                # Download media if available\n",
        "                if msg.photo:\n",
        "                    media_path = os.path.join(output_dir, f'{channel}_{msg.id}.jpg')\n",
        "                    await msg.download_media(file=media_path)\n",
        "                    message_data['media_file'] = media_path\n",
        "\n",
        "                messages.append(message_data)\n",
        "\n",
        "        except Exception as e:\n",
        "            print(f\"⚠️ Error processing {channel}: {e}\")\n",
        "            continue\n",
        "\n",
        "        # Save individual channel CSV\n",
        "        csv_file = os.path.join(output_dir, f'{channel}.csv')\n",
        "        with open(csv_file, mode='w', newline='', encoding='utf-8') as f:\n",
        "            writer = csv.DictWriter(f, fieldnames=['channel', 'message_id', 'text', 'timestamp', 'sender_id', 'media_file'])\n",
        "            writer.writeheader()\n",
        "            writer.writerows(messages)\n",
        "\n",
        "        print(f\"✅ Saved {len(messages)} messages from {channel} to CSV.\")\n",
        "\n",
        "        # Add messages from this channel to the combined list\n",
        "        all_messages.extend(messages)\n",
        "\n",
        "    # After all channels are processed, save combined CSV\n",
        "    combined_csv_file = os.path.join(output_dir, 'combined_channels.csv')\n",
        "    with open(combined_csv_file, mode='w', newline='', encoding='utf-8') as f:\n",
        "        writer = csv.DictWriter(f, fieldnames=['channel', 'message_id', 'text', 'timestamp', 'sender_id', 'media_file'])\n",
        "        writer.writeheader()\n",
        "        writer.writerows(all_messages)\n",
        "\n",
        "    print(f\"🎉 Saved combined {len(all_messages)} messages from all channels to {combined_csv_file}.\")\n",
        "\n",
        "# STEP 8: Run the main function\n",
        "await main()\n"
      ],
      "metadata": {
        "colab": {
          "base_uri": "https://localhost:8080/"
        },
        "id": "J8CX_0yUIq4b",
        "outputId": "3c0fda80-33f2-4cef-f45f-33123b5ce7dc"
      },
      "execution_count": 8,
      "outputs": [
        {
          "output_type": "stream",
          "name": "stdout",
          "text": [
            "📥 Collecting messages from: @ZemenExpress\n",
            "✅ Saved 500 messages from @ZemenExpress to CSV.\n",
            "📥 Collecting messages from: @meneshayeofficial\n",
            "✅ Saved 500 messages from @meneshayeofficial to CSV.\n",
            "📥 Collecting messages from: @Leyueqa\n",
            "✅ Saved 500 messages from @Leyueqa to CSV.\n",
            "📥 Collecting messages from: @Shewabrand\n",
            "✅ Saved 500 messages from @Shewabrand to CSV.\n",
            "📥 Collecting messages from: @modernshoppingcenter\n",
            "✅ Saved 500 messages from @modernshoppingcenter to CSV.\n",
            "📥 Collecting messages from: @Fashiontera\n",
            "✅ Saved 500 messages from @Fashiontera to CSV.\n",
            "📥 Collecting messages from: @gebeyaadama\n",
            "✅ Saved 500 messages from @gebeyaadama to CSV.\n",
            "🎉 Saved combined 3500 messages from all channels to /content/drive/MyDrive/ethioMart/telegram_datas/combined_channels.csv.\n"
          ]
        }
      ]
    },
    {
      "cell_type": "code",
      "source": [],
      "metadata": {
        "id": "Z8DSXuwfI781"
      },
      "execution_count": null,
      "outputs": []
    }
  ]
}